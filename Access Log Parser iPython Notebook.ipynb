{
 "cells": [
  {
   "cell_type": "code",
   "execution_count": null,
   "metadata": {
    "collapsed": true
   },
   "outputs": [],
   "source": [
    "# This cell defines the read_apache_log_to_dataframe method, which accepts an opened file.  We will define the file\n",
    "#     that is being used in the next cell, and invoke this function to create our dataframe\n",
    "\n",
    "def read_apache_log_to_dataframe(opened_file_to_read):\n",
    "    #If file is there, returns a dataframe composed of the lines that successfully match the access_log_regex.  If file\n",
    "    #    does not exist, returns 'FileNotFound'\n",
    "    \n",
    "    #Apache Log Format: \"%{JiveClientIP}i %l %u %t \\\"%r\\\" %>s %b %T %k \\\"%{Referer}i\\\" \\\"%{User-Agent}i\\\" \\\"%{Content-Type}o\\\" \n",
    "    #                    %{JSESSIONID}C\" common\n",
    "    #This regex parses a log line into the above items, with %r being separated into the request method, request URI, and HTTP \n",
    "    #    version.  The Time to serve request claims to be in milliseconds, but I think for some versions of Jive this is\n",
    "    #    not true.  Sometimes it will be in whole seconds.\n",
    "    access_log_regex = r'(\\S+) (\\S+) (\\S+) \\[(\\S+ \\S+)\\] \"(\\S+) (\\S+) (\\S+)\" (\\S+) (\\S+) (\\S+) (\\S+) (\".*?\") (\".*?\") (\".*?\") (\\S+)'\n",
    "    compiled_regex = re.compile(access_log_regex)\n",
    "    file_contents = []\n",
    "    line_dict = {}\n",
    "    \n",
    "    for line in f:\n",
    "        regex_match = compiled_regex.search(line)\n",
    "\n",
    "        try:\n",
    "            line_dict['ip_address'] = regex_match.group(1)\n",
    "            line_dict['remote_username'] = regex_match.group(2)\n",
    "            line_dict['remote_user'] = regex_match.group(3)\n",
    "            line_dict['request_received_timestamp'] = regex_match.group(4)\n",
    "            line_dict['http_request_method'] = regex_match.group(5)\n",
    "            line_dict['http_request_uri'] = regex_match.group(6)\n",
    "            line_dict['http_request_version'] = regex_match.group(7)\n",
    "            line_dict['http_status'] = regex_match.group(8)\n",
    "            line_dict['response_size_bytes'] = regex_match.group(9)\n",
    "            line_dict['time_to_serve_request_milliseconds'] = regex_match.group(10)\n",
    "            line_dict['keep_alive_requests'] = regex_match.group(11)\n",
    "            line_dict['referer'] = regex_match.group(12)\n",
    "            line_dict['user_agent'] = regex_match.group(13)\n",
    "            line_dict['content_type'] = regex_match.group(14)\n",
    "            line_dict['jsession_id'] = regex_match.group(15)\n",
    "\n",
    "            file_contents.append(line_dict.copy())\n",
    "\n",
    "        #AttributeError thrown when trying to assign matched groups if a match was not found on that line (i.e. match = None)\n",
    "        except AttributeError:\n",
    "            print('Attribute Error for:')\n",
    "            print(line)\n",
    "            pass\n",
    "\n",
    "    data_frame = pd.DataFrame(file_contents)\n",
    "    return data_frame"
   ]
  },
  {
   "cell_type": "code",
   "execution_count": null,
   "metadata": {
    "collapsed": true
   },
   "outputs": [],
   "source": [
    "# Here we define which file to use and read that file into a dataframe\n",
    "\n",
    "path = '/Users/daniel.harada/GitHub/Apache-Access-Log-Tools/Test.log'\n",
    "with open(path) as f:\n",
    "    dataframe = read_apache_access_log_to_dataframe(f)"
   ]
  },
  {
   "cell_type": "code",
   "execution_count": null,
   "metadata": {
    "collapsed": true
   },
   "outputs": [],
   "source": [
    "# Here and below we define whatever aggregations we need\n",
    "\n",
    "# First a simple example of getting counts by IP address\n",
    "data_frame['ip_address'].value_counts().head(10)"
   ]
  },
  {
   "cell_type": "code",
   "execution_count": null,
   "metadata": {
    "collapsed": true
   },
   "outputs": [],
   "source": [
    "# This cell gives a more complicated example, where we get the counts by top 10 IP address from a particular User Agent\n",
    "data_frame[data_frame['user_agent'] == '\"Mozilla/5.0 (Linux; Android 4.4.4; en-us; SAMSUNG SM-N910T Build/KTU84P) AppleWebKit/537.36 (KHTML, like Gecko) Version/2.0 Chrome/34.0.1847.76 Mobile Safari/537.36\"']['ip_address'].value_counts().head(10)"
   ]
  }
 ],
 "metadata": {
  "kernelspec": {
   "display_name": "Python 3",
   "language": "python",
   "name": "python3"
  },
  "language_info": {
   "codemirror_mode": {
    "name": "ipython",
    "version": 3
   },
   "file_extension": ".py",
   "mimetype": "text/x-python",
   "name": "python",
   "nbconvert_exporter": "python",
   "pygments_lexer": "ipython3",
   "version": "3.4.3"
  }
 },
 "nbformat": 4,
 "nbformat_minor": 0
}
